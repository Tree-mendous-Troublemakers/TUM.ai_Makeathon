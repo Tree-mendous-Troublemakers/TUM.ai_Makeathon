{
 "cells": [
  {
   "cell_type": "code",
   "execution_count": 5,
   "metadata": {},
   "outputs": [],
   "source": [
    "from azure.storage.blob import BlobServiceClient, BlobClient, ContainerClient\n",
    "from dotenv import load_dotenv\n",
    "import os\n",
    "\n",
    "def upload_folder_to_blob(folder_path, container_name, connection_string):\n",
    "    # Create a BlobServiceClient using the connection string\n",
    "    blob_service_client = BlobServiceClient.from_connection_string(connection_string)\n",
    "    \n",
    "    # Create a ContainerClient\n",
    "    container_client = blob_service_client.get_container_client(container_name)\n",
    "    \n",
    "    # check if container already exists, if not create it\n",
    "    if not container_client.exists():\n",
    "        container_client.create_container()\n",
    "\n",
    "    for r,d,f in os.walk(folder_path):        \n",
    "        if f:\n",
    "            for file in f:\n",
    "                file_path_on_azure = os.path.join(r,file).replace('data/','')\n",
    "                file_path_on_local = os.path.join(r,file)\n",
    "                # upload the file to blob\n",
    "                blob_client = blob_service_client.get_blob_client(container=container_name, blob=file_path_on_azure)\n",
    "                with open(file_path_on_local, \"rb\") as data:\n",
    "                    blob_client.upload_blob(data, overwrite=True)\n",
    "\n",
    "    print(f\"Uploaded {folder_path} to {container_name} container\")\n",
    "\n",
    "dotenv_path = '.env'\n",
    "load_dotenv(dotenv_path)\n",
    "connection_string = os.getenv('BLOB_STORAGE_CONNECTION_STRING')"
   ]
  },
  {
   "cell_type": "code",
   "execution_count": 6,
   "metadata": {},
   "outputs": [
    {
     "name": "stdout",
     "output_type": "stream",
     "text": [
      "True\n",
      "Uploaded data/temp_layer to data-container container\n"
     ]
    }
   ],
   "source": [
    "# suggested structure:\n",
    "# TUM-ai_Makeathon\n",
    "# ├── data\n",
    "# │   ├── bronze_layer\n",
    "# │   │   ├── EuroSAT_MS\n",
    "# │   ├── silver_layer\n",
    "# │   ├── gold_layer\n",
    "\n",
    "\n",
    "folder_to_upload = \"data/temp_layer\" # TODO: change the folder to be uploaded here and uncomment it\n",
    "print(os.path.exists(folder_to_upload))\n",
    "container_name = \"data-container\"\n",
    "\n",
    "upload_folder_to_blob(folder_to_upload, container_name, connection_string)"
   ]
  }
 ],
 "metadata": {
  "kernelspec": {
   "display_name": "hack24env",
   "language": "python",
   "name": "python3"
  },
  "language_info": {
   "codemirror_mode": {
    "name": "ipython",
    "version": 3
   },
   "file_extension": ".py",
   "mimetype": "text/x-python",
   "name": "python",
   "nbconvert_exporter": "python",
   "pygments_lexer": "ipython3",
   "version": "3.11.9"
  }
 },
 "nbformat": 4,
 "nbformat_minor": 2
}
