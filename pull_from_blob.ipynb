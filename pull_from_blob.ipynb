{
 "cells": [
  {
   "cell_type": "code",
   "execution_count": 11,
   "metadata": {},
   "outputs": [],
   "source": [
    "from dotenv import load_dotenv\n",
    "from azure.storage.blob import BlobServiceClient, BlobClient, ContainerClient\n",
    "import shutil\n",
    "import os\n",
    "\n",
    "# suggested structure:\n",
    "# TUM-ai_Makeathon\n",
    "# ├── data\n",
    "# │   ├── bronze_layer\n",
    "# │   │   ├── EuroSAT_MS\n",
    "# │   ├── silver_layer\n",
    "# │   ├── gold_layer\n",
    "local_directory = \"data/temp_layer\" # TODO: change this on your purpose to the directory you wanna pull form the blob storage\n",
    "\n",
    "dotenv_path = '.env'\n",
    "load_dotenv(dotenv_path)\n",
    "connection_string = os.getenv('BLOB_STORAGE_CONNECTION_STRING')\n",
    "\n",
    "container_name = \"data-container\"\n",
    "blob_folder_path = local_directory\n",
    "blob_folder_path = blob_folder_path.replace(\"data/\", \"\")  # remove the data/ prefix\n",
    "\n",
    "assert blob_folder_path != \"\", \"blob_folder_path cannot be empty\"\n",
    "assert local_directory != \"\", \"local_directory cannot be empty\"\n",
    "\n",
    "if os.path.exists(local_directory):\n",
    "    shutil.rmtree(local_directory)\n",
    "os.makedirs(local_directory)\n",
    "\n",
    "blob_service_client = BlobServiceClient.from_connection_string(connection_string)\n",
    "container_client = blob_service_client.get_container_client(container=container_name)\n",
    "\n",
    "\n",
    "blob_list = container_client.list_blobs()\n",
    "\n",
    "for blob in blob_list:\n",
    "    if not blob.name.startswith(blob_folder_path):\n",
    "        continue\n",
    "    # print full paths of the blobs\n",
    "    blob_client = blob_service_client.get_blob_client(container=container_name, blob=blob.name)\n",
    "\n",
    "    # create folders and subfolders and file\n",
    "    os.makedirs(os.path.dirname(f\"data/{blob.name}\"), exist_ok=True)\n",
    "    with open(f\"data/{blob.name}\", \"wb\") as file:\n",
    "        download_stream = blob_client.download_blob()\n",
    "        file.write(download_stream.readall())"
   ]
  }
 ],
 "metadata": {
  "kernelspec": {
   "display_name": "hack24env",
   "language": "python",
   "name": "python3"
  },
  "language_info": {
   "codemirror_mode": {
    "name": "ipython",
    "version": 3
   },
   "file_extension": ".py",
   "mimetype": "text/x-python",
   "name": "python",
   "nbconvert_exporter": "python",
   "pygments_lexer": "ipython3",
   "version": "3.11.9"
  }
 },
 "nbformat": 4,
 "nbformat_minor": 2
}
