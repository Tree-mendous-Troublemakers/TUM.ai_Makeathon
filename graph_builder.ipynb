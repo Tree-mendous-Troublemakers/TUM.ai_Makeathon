{
 "cells": [
  {
   "cell_type": "code",
   "execution_count": 4,
   "metadata": {},
   "outputs": [],
   "source": [
    "import os\n",
    "from knowledge_graph.knowledge_graph import KnowledgeGraph\n",
    "\n",
    "graph_path = os.path.join(os.getcwd(), \"data/gold_layer\", \"SEN4AMA.rpty\")\n",
    "\n",
    "KG = KnowledgeGraph()\n",
    "KG.load_graph(graph_path)"
   ]
  },
  {
   "cell_type": "code",
   "execution_count": 5,
   "metadata": {},
   "outputs": [
    {
     "name": "stdout",
     "output_type": "stream",
     "text": [
      "107066\n"
     ]
    }
   ],
   "source": [
    "nodes = KG.get_nodes()\n",
    "print(len(nodes))"
   ]
  }
 ],
 "metadata": {
  "language_info": {
   "name": "python"
  }
 },
 "nbformat": 4,
 "nbformat_minor": 2
}
