{
 "cells": [
  {
   "cell_type": "code",
   "execution_count": 1,
   "metadata": {},
   "outputs": [],
   "source": [
    "from knowledge_graph.knowledge_graph import KnowledgeGraph\n",
    "KG = KnowledgeGraph()"
   ]
  },
  {
   "cell_type": "code",
   "execution_count": null,
   "metadata": {},
   "outputs": [],
   "source": [
    "from osgeo import gdal\n",
    "\n",
    "# Open the GeoTIFF file\n",
    "file_path = \"/Users/jamisonproctor/Documents/dev/TUM.ai_Makeathon/data/silver_layer/SEN4AMA/17MQQ/17MQQ_20170102_CHANGE.tif\"\n",
    "dataset = gdal.Open(file_path)\n",
    "\n",
    "if dataset is None:\n",
    "    print(\"Failed to open the file.\")\n",
    "else:\n",
    "    # Get metadata\n",
    "    metadata = dataset.GetMetadata()\n",
    "\n",
    "    # Print metadata\n",
    "    print(\"Metadata:\")\n",
    "    for key, value in metadata.items():\n",
    "        print(f\"{key}: {value}\")\n",
    "\n",
    "    # Alternatively, you can access specific metadata fields directly\n",
    "    # Example: Get the coordinate system\n",
    "    projection = dataset.GetProjection()\n",
    "    print(\"Coordinate System (Projection):\")\n",
    "    print(projection)\n",
    "\n",
    "    # Example: Get the geotransform (georeferencing information)\n",
    "    geotransform = dataset.GetGeoTransform()\n",
    "    print(\"Geotransform:\")\n",
    "    print(geotransform)\n",
    "\n",
    "    # Close the dataset\n",
    "    dataset = None\n"
   ]
  }
 ],
 "metadata": {
  "language_info": {
   "name": "python"
  }
 },
 "nbformat": 4,
 "nbformat_minor": 2
}
