{
 "cells": [
  {
   "cell_type": "code",
   "execution_count": 1,
   "metadata": {},
   "outputs": [],
   "source": [
    "from knowledge_graph.knowledge_graph import KnowledgeGraph\n",
    "KG = KnowledgeGraph()"
   ]
  },
  {
   "cell_type": "code",
   "execution_count": 6,
   "metadata": {},
   "outputs": [
    {
     "name": "stdout",
     "output_type": "stream",
     "text": [
      "Metadata:\n",
      "AREA_OR_POINT: Area\n",
      "Coordinate System (Projection):\n",
      "GEOGCS[\"WGS 84\",DATUM[\"WGS_1984\",SPHEROID[\"WGS 84\",6378137,298.257223563,AUTHORITY[\"EPSG\",\"7030\"]],AUTHORITY[\"EPSG\",\"6326\"]],PRIMEM[\"Greenwich\",0,AUTHORITY[\"EPSG\",\"8901\"]],UNIT[\"degree\",0.0174532925199433,AUTHORITY[\"EPSG\",\"9122\"]],AXIS[\"Latitude\",NORTH],AXIS[\"Longitude\",EAST],AUTHORITY[\"EPSG\",\"4326\"]]\n",
      "Geotransform:\n",
      "(-79.1977339, 0.00017966, 0.0, -4.5211384, 0.0, -0.00017966)\n"
     ]
    }
   ],
   "source": [
    "from osgeo import gdal\n",
    "\n",
    "# Open the GeoTIFF file\n",
    "file_path = \"/Users/jamisonproctor/Documents/dev/TUM.ai_Makeathon/data/silver_layer/SEN4AMA/17MQQ/17MQQ_20170102_CHANGE.tif\"\n",
    "dataset = gdal.Open(file_path)\n",
    "\n",
    "if dataset is None:\n",
    "    print(\"Failed to open the file.\")\n",
    "else:\n",
    "    # Get metadata\n",
    "    metadata = dataset.GetMetadata()\n",
    "\n",
    "    # Print metadata keys and values\n",
    "    print(\"Metadata:\")\n",
    "    for key, value in metadata.items():\n",
    "        print(f\"{key}: {value}\")\n",
    "\n",
    "        # Check for date or time-related keywords in the metadata\n",
    "        if \"date\" in key.lower() or \"time\" in key.lower():\n",
    "            print(f\"Found date/time information: {value}\")\n",
    "\n",
    "    # Alternatively, you can access specific metadata fields directly\n",
    "    # Example: Get the coordinate system\n",
    "    projection = dataset.GetProjection()\n",
    "    print(\"Coordinate System (Projection):\")\n",
    "    print(projection)\n",
    "\n",
    "    # Example: Get the geotransform (georeferencing information)\n",
    "    geotransform = dataset.GetGeoTransform()\n",
    "    print(\"Geotransform:\")\n",
    "    print(geotransform)\n",
    "\n",
    "    # Close the dataset\n",
    "    dataset = None\n"
   ]
  }
 ],
 "metadata": {
  "language_info": {
   "name": "python"
  }
 },
 "nbformat": 4,
 "nbformat_minor": 2
}
